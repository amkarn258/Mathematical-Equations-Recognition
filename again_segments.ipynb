{
  "nbformat": 4,
  "nbformat_minor": 0,
  "metadata": {
    "colab": {
      "name": "again_segments.ipynb",
      "provenance": []
    },
    "kernelspec": {
      "name": "python3",
      "display_name": "Python 3"
    },
    "language_info": {
      "name": "python"
    }
  },
  "cells": [
    {
      "cell_type": "code",
      "metadata": {
        "colab": {
          "base_uri": "https://localhost:8080/"
        },
        "id": "SasHrs4Pldn1",
        "outputId": "ba3abb05-3bc8-4f67-d0b1-5e2862b4705c"
      },
      "source": [
        "from keras.models import load_model\n",
        "from keras.models import model_from_json\n",
        "\n",
        "json_file = open('/content/drive/MyDrive/model/model_final.json', 'r')\n",
        "loaded_model_json = json_file.read()\n",
        "json_file.close()\n",
        "loaded_model = model_from_json(loaded_model_json)\n",
        "\n",
        "\n",
        "loaded_model.load_weights('/content/drive/MyDrive/model/model_final.h5')\n",
        "\n",
        "model = loaded_model\n",
        "\n",
        "\n",
        "print('Model successfully loaded')"
      ],
      "execution_count": null,
      "outputs": [
        {
          "output_type": "stream",
          "name": "stdout",
          "text": [
            "Model successfully loaded\n"
          ]
        }
      ]
    },
    {
      "cell_type": "code",
      "metadata": {
        "id": "WqwrcwZamF94"
      },
      "source": [
        "import pandas as pd\n",
        "import numpy as np\n",
        "data = pd.read_csv(\"/content/drive/MyDrive/model/labels.csv\")\n",
        "data = np.array(data)\n",
        "symbols = []\n",
        "for i in range(len(data) - 1):\n",
        "    if (data[i + 1][2]>data[i][2]):\n",
        "        symbols.append(data[i][3])"
      ],
      "execution_count": null,
      "outputs": []
    },
    {
      "cell_type": "code",
      "metadata": {
        "colab": {
          "base_uri": "https://localhost:8080/",
          "height": 168
        },
        "id": "qXOdx8Lcl2fv",
        "outputId": "d7cee398-e13c-4a6f-9ebd-ad1805dea0fd"
      },
      "source": [
        "import cv2\n",
        "import numpy as np\n",
        "from matplotlib import pyplot as plt\n",
        "%matplotlib inline\n",
        "\n",
        "\n",
        "#enter input image here\n",
        "image = np.asarray(cv2.imread('/content/drive/MyDrive/model/test4.png', 0))\n",
        "height, width = image.shape\n",
        "\n",
        "#resizing the image to find spaces better\n",
        "image = cv2.resize(image, dsize=(width*5,height*4), interpolation=cv2.INTER_CUBIC)\n",
        "#grayscale\n",
        "#gray = cv2.cvtColor(image,cv2.COLOR_BGR2GRAY)\n",
        "\n",
        "\n",
        "#binary\n",
        "ret,thresh = cv2.threshold(image,127,255,cv2.THRESH_BINARY_INV)\n",
        "\n",
        "\n",
        "#dilation\n",
        "kernel = np.ones((5,5), np.uint8)\n",
        "img_dilation = cv2.dilate(thresh, kernel, iterations=1)\n",
        "\n",
        "\n",
        "#adding GaussianBlur\n",
        "gsblur=cv2.GaussianBlur(img_dilation,(5,5),0)\n",
        "\n",
        "\n",
        "#find contours\n",
        "ctrs, hier = cv2.findContours(gsblur.copy(), cv2.RETR_EXTERNAL, cv2.CHAIN_APPROX_SIMPLE)\n",
        "\n",
        "m = list()\n",
        "#sort contours\n",
        "sorted_ctrs = sorted(ctrs, key=lambda ctr: cv2.boundingRect(ctr)[0])\n",
        "pchl = list()\n",
        "dp = image.copy()\n",
        "for i, ctr in enumerate(sorted_ctrs):\n",
        "    # Get bounding box\n",
        "    x, y, w, h = cv2.boundingRect(ctr)\n",
        "    cv2.rectangle(dp,(x-10,y-10),( x + w + 10, y + h + 10 ),(90,0,255),9)\n",
        "    \n",
        "plt.imshow(dp)"
      ],
      "execution_count": null,
      "outputs": [
        {
          "output_type": "execute_result",
          "data": {
            "text/plain": [
              "<matplotlib.image.AxesImage at 0x7f86ff8f5f50>"
            ]
          },
          "metadata": {},
          "execution_count": 5
        },
        {
          "output_type": "display_data",
          "data": {
            "image/png": "[encoded data removed]",
            "text/plain": [
              "<Figure size 432x288 with 1 Axes>"
            ]
          },
          "metadata": {
            "needs_background": "light"
          }
        }
      ]
    },
    {
      "cell_type": "code",
      "metadata": {
        "id": "4PyY7-nuuuC8"
      },
      "source": [
        "import os\n",
        "mypath = \"/content/drive/MyDrive/model/test1.png\"\n",
        "try:\n",
        "    #path=os.path.join(mypath, n)\n",
        "    img=cv2.imread(mypath, cv2.IMREAD_GRAYSCALE)\n",
        "    img=cv2.resize(img, (32, 32))\n",
        "\n",
        "except Exception as e:\n",
        "    print(str(e))"
      ],
      "execution_count": null,
      "outputs": []
    },
    {
      "cell_type": "code",
      "metadata": {
        "id": "t3KRpmuYa_iH"
      },
      "source": [
        "sorted_ctrs"
      ],
      "execution_count": null,
      "outputs": []
    },
    {
      "cell_type": "code",
      "metadata": {
        "id": "eZYi1BrjbFGl"
      },
      "source": [
        "for i,j in enumerate(sorted_ctrs):\n",
        "  x, y, w, h = cv2.boundingRect(j)\n",
        "  print(x)\n",
        "  print(y)\n",
        "  print(w) \n",
        "  print(h)"
      ],
      "execution_count": null,
      "outputs": []
    },
    {
      "cell_type": "code",
      "metadata": {
        "id": "rP_7sNhubt-F"
      },
      "source": [
        "r = image[526-10:526+1225+10, 595-10:595+397+10]"
      ],
      "execution_count": null,
      "outputs": []
    },
    {
      "cell_type": "code",
      "metadata": {
        "id": "HaKDwDd7bzmf"
      },
      "source": [
        "r"
      ],
      "execution_count": null,
      "outputs": []
    },
    {
      "cell_type": "code",
      "metadata": {
        "id": "4os3UGIZb397"
      },
      "source": [
        "r.shape"
      ],
      "execution_count": null,
      "outputs": []
    },
    {
      "cell_type": "code",
      "metadata": {
        "id": "QT4kaoGCscmP"
      },
      "source": [
        "plt.imshow(r)"
      ],
      "execution_count": null,
      "outputs": []
    },
    {
      "cell_type": "code",
      "metadata": {
        "id": "tICDU7Wmb5d4"
      },
      "source": [
        "r = cv2.resize(r, (32, 32), interpolation=cv2.INTER_CUBIC)"
      ],
      "execution_count": null,
      "outputs": []
    },
    {
      "cell_type": "code",
      "metadata": {
        "id": "H5dIJdUXsiDm"
      },
      "source": [
        "plt.imshow(r)"
      ],
      "execution_count": null,
      "outputs": []
    },
    {
      "cell_type": "code",
      "metadata": {
        "id": "i3GqnZywcDjE"
      },
      "source": [
        "r.shape"
      ],
      "execution_count": null,
      "outputs": []
    },
    {
      "cell_type": "code",
      "metadata": {
        "id": "wm9u-4tVcMOy"
      },
      "source": [
        "#r = cv2.cvtColor(r,cv2.COLOR_BGR2GRAY)\n",
        "r = np.array(r)\n",
        "r.shape"
      ],
      "execution_count": null,
      "outputs": []
    },
    {
      "cell_type": "code",
      "metadata": {
        "id": "aH_IfUYkcjg-"
      },
      "source": [
        "r = r/255"
      ],
      "execution_count": null,
      "outputs": []
    },
    {
      "cell_type": "code",
      "metadata": {
        "id": "reS-J3MCclZA"
      },
      "source": [
        "r = 1 - r\n",
        "r = r.reshape(-1,32,32,1)"
      ],
      "execution_count": null,
      "outputs": []
    },
    {
      "cell_type": "code",
      "metadata": {
        "id": "y3aXYKIAc9v0"
      },
      "source": [
        "plt.imshow(r.reshape(32,32))\n",
        "plt.show()"
      ],
      "execution_count": null,
      "outputs": []
    },
    {
      "cell_type": "code",
      "metadata": {
        "id": "9vnDFJTOg-BX"
      },
      "source": [
        "#r = image[y-10:y+h+10, x-10:x+w+10]\n",
        "#r = cv2.resize(r, (32, 32), interpolation=cv2.INTER_CUBIC)\n",
        "#r = cv2.cvtColor(r,cv2.COLOR_BGR2GRAY)\n",
        "r = cv2.fastNlMeansDenoising(r, r, h = 5, templateWindowSize = 7, \tsearchWindowSize = 21) "
      ],
      "execution_count": null,
      "outputs": []
    },
    {
      "cell_type": "code",
      "metadata": {
        "id": "ffqgD2Rrh0w3"
      },
      "source": [
        "plt.imshow(r)"
      ],
      "execution_count": null,
      "outputs": []
    },
    {
      "cell_type": "code",
      "metadata": {
        "id": "4Xq3_xHEkV6v"
      },
      "source": [
        "r"
      ],
      "execution_count": null,
      "outputs": []
    },
    {
      "cell_type": "code",
      "metadata": {
        "id": "jzjq2l-FkXho"
      },
      "source": [
        "r = r/255"
      ],
      "execution_count": null,
      "outputs": []
    },
    {
      "cell_type": "code",
      "metadata": {
        "id": "oZu4bFr6kg-0"
      },
      "source": [
        "r = 1 - r"
      ],
      "execution_count": null,
      "outputs": []
    },
    {
      "cell_type": "code",
      "metadata": {
        "id": "d8DIBA6zkliM"
      },
      "source": [
        "plt.imshow(r.reshape(32,32))"
      ],
      "execution_count": null,
      "outputs": []
    },
    {
      "cell_type": "code",
      "metadata": {
        "id": "fDQtkh70h4o_"
      },
      "source": [
        "r = np.array(r)\n",
        "r.shape"
      ],
      "execution_count": null,
      "outputs": []
    },
    {
      "cell_type": "code",
      "metadata": {
        "id": "fs18UUUAs_ha"
      },
      "source": [
        "r = 1 - r"
      ],
      "execution_count": null,
      "outputs": []
    },
    {
      "cell_type": "code",
      "metadata": {
        "id": "XXIUGi_AiD_m"
      },
      "source": [
        "r = r.reshape(-1,32,32,1)\n",
        "pred = model.predict(r)\n",
        "pred = pred.argmax()\n",
        "print(pred)"
      ],
      "execution_count": null,
      "outputs": []
    },
    {
      "cell_type": "code",
      "metadata": {
        "id": "P1HeuZH1iZ-N"
      },
      "source": [
        "r = 1 - r"
      ],
      "execution_count": null,
      "outputs": []
    },
    {
      "cell_type": "code",
      "metadata": {
        "id": "u29iqCNLdJqb"
      },
      "source": [
        "pred = model.predict(r)"
      ],
      "execution_count": null,
      "outputs": []
    },
    {
      "cell_type": "code",
      "metadata": {
        "id": "u6JJRSlOdP_q"
      },
      "source": [
        "pred = pred.argmax()"
      ],
      "execution_count": null,
      "outputs": []
    },
    {
      "cell_type": "code",
      "metadata": {
        "id": "X4NP_dxtdWzC"
      },
      "source": [
        "print(pred)\n",
        "print(symbols[pred])"
      ],
      "execution_count": null,
      "outputs": []
    },
    {
      "cell_type": "code",
      "metadata": {
        "colab": {
          "base_uri": "https://localhost:8080/",
          "height": 464
        },
        "id": "S25rBuIAmYAT",
        "outputId": "89f9e618-5541-4cdb-9c16-9ecb61eca620"
      },
      "source": [
        "pch1 = []\n",
        "for i, ctr in enumerate(sorted_ctrs):\n",
        "    # Get bounding box\n",
        "    x, y, w, h = cv2.boundingRect(ctr)\n",
        "    # Getting ROI\n",
        "    roi = image[y-10:y+h+10, x-10:x+w+10]\n",
        "    print(roi)\n",
        "    if (type(roi) == type(None)):\n",
        "      pass\n",
        "    else:\n",
        "      roi = cv2.resize(roi, (32, 32), interpolation=cv2.INTER_CUBIC)\n",
        "    roi = cv2.cvtColor(roi,cv2.COLOR_BGR2GRAY)\n",
        "    \n",
        "    roi = np.array(roi)\n",
        "    t = np.copy(roi)\n",
        "    t = t / 255.0\n",
        "    t = 1-t\n",
        "    t = t.reshape(-1,32,32,1)\n",
        "    m.append(roi)\n",
        "    pred = model.predict(t)\n",
        "    pred = pred.argmax()\n",
        "    pch1.append(pred)\n",
        "    #pchl.append(pred)\n",
        "\n",
        "    "
      ],
      "execution_count": null,
      "outputs": [
        {
          "output_type": "stream",
          "name": "stdout",
          "text": [
            "[[255 255 255 ... 255 255 255]\n",
            " [255 255 255 ... 255 255 255]\n",
            " [255 255 255 ... 255 255 255]\n",
            " ...\n",
            " [255 255 255 ... 255 255 255]\n",
            " [255 255 255 ... 255 255 255]\n",
            " [255 255 255 ... 255 255 255]]\n"
          ]
        },
        {
          "output_type": "error",
          "ename": "error",
          "evalue": "ignored",
          "traceback": [
            "\u001b[0;31m---------------------------------------------------------------------------\u001b[0m",
            "\u001b[0;31merror\u001b[0m                                     Traceback (most recent call last)",
            "\u001b[0;32m<ipython-input-5-9fa4e0b1bbab>\u001b[0m in \u001b[0;36m<module>\u001b[0;34m()\u001b[0m\n\u001b[1;32m     10\u001b[0m     \u001b[0;32melse\u001b[0m\u001b[0;34m:\u001b[0m\u001b[0;34m\u001b[0m\u001b[0;34m\u001b[0m\u001b[0m\n\u001b[1;32m     11\u001b[0m       \u001b[0mroi\u001b[0m \u001b[0;34m=\u001b[0m \u001b[0mcv2\u001b[0m\u001b[0;34m.\u001b[0m\u001b[0mresize\u001b[0m\u001b[0;34m(\u001b[0m\u001b[0mroi\u001b[0m\u001b[0;34m,\u001b[0m \u001b[0;34m(\u001b[0m\u001b[0;36m32\u001b[0m\u001b[0;34m,\u001b[0m \u001b[0;36m32\u001b[0m\u001b[0;34m)\u001b[0m\u001b[0;34m,\u001b[0m \u001b[0minterpolation\u001b[0m\u001b[0;34m=\u001b[0m\u001b[0mcv2\u001b[0m\u001b[0;34m.\u001b[0m\u001b[0mINTER_CUBIC\u001b[0m\u001b[0;34m)\u001b[0m\u001b[0;34m\u001b[0m\u001b[0;34m\u001b[0m\u001b[0m\n\u001b[0;32m---> 12\u001b[0;31m     \u001b[0mroi\u001b[0m \u001b[0;34m=\u001b[0m \u001b[0mcv2\u001b[0m\u001b[0;34m.\u001b[0m\u001b[0mcvtColor\u001b[0m\u001b[0;34m(\u001b[0m\u001b[0mroi\u001b[0m\u001b[0;34m,\u001b[0m\u001b[0mcv2\u001b[0m\u001b[0;34m.\u001b[0m\u001b[0mCOLOR_BGR2GRAY\u001b[0m\u001b[0;34m)\u001b[0m\u001b[0;34m\u001b[0m\u001b[0;34m\u001b[0m\u001b[0m\n\u001b[0m\u001b[1;32m     13\u001b[0m \u001b[0;34m\u001b[0m\u001b[0m\n\u001b[1;32m     14\u001b[0m     \u001b[0mroi\u001b[0m \u001b[0;34m=\u001b[0m \u001b[0mnp\u001b[0m\u001b[0;34m.\u001b[0m\u001b[0marray\u001b[0m\u001b[0;34m(\u001b[0m\u001b[0mroi\u001b[0m\u001b[0;34m)\u001b[0m\u001b[0;34m\u001b[0m\u001b[0;34m\u001b[0m\u001b[0m\n",
            "\u001b[0;31merror\u001b[0m: OpenCV(4.1.2) /io/opencv/modules/imgproc/src/color.simd_helpers.hpp:92: error: (-2:Unspecified error) in function 'cv::impl::{anonymous}::CvtHelper<VScn, VDcn, VDepth, sizePolicy>::CvtHelper(cv::InputArray, cv::OutputArray, int) [with VScn = cv::impl::{anonymous}::Set<3, 4>; VDcn = cv::impl::{anonymous}::Set<1>; VDepth = cv::impl::{anonymous}::Set<0, 2, 5>; cv::impl::{anonymous}::SizePolicy sizePolicy = (cv::impl::<unnamed>::SizePolicy)2u; cv::InputArray = const cv::_InputArray&; cv::OutputArray = const cv::_OutputArray&]'\n> Invalid number of channels in input image:\n>     'VScn::contains(scn)'\n> where\n>     'scn' is 1\n"
          ]
        }
      ]
    },
    {
      "cell_type": "code",
      "metadata": {
        "id": "JsauHTjUmqKG"
      },
      "source": [
        "print(pch1)\n",
        "pcw = []\n",
        "interp = 'bilinear'\n",
        "fig, axs = plt.subplots(nrows=len(sorted_ctrs), sharex=True, figsize=(1,len(sorted_ctrs)))\n",
        "for i in range(len(pch1)):\n",
        "    #print (pchl[i][0])\n",
        "    pcw.append(symbols[pch1[i]])\n",
        "    axs[i].set_title('-------> predicted letter: '+symbols[pch1[i]], x=2.5,y=0.24)\n",
        "    axs[i].imshow(m[i], interpolation=interp)\n",
        "\n",
        "plt.show()\n",
        "\n",
        "\n",
        "predstring = ''.join(pcw)\n",
        "print('Predicted String: '+predstring)"
      ],
      "execution_count": null,
      "outputs": []
    }
  ]
}